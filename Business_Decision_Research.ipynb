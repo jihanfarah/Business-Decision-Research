{
  "nbformat": 4,
  "nbformat_minor": 0,
  "metadata": {
    "colab": {
      "provenance": [],
      "collapsed_sections": [],
      "authorship_tag": "ABX9TyPLUlP/j9OXWhF/100j0YdU",
      "include_colab_link": true
    },
    "kernelspec": {
      "name": "python3",
      "display_name": "Python 3"
    },
    "language_info": {
      "name": "python"
    }
  },
  "cells": [
    {
      "cell_type": "markdown",
      "metadata": {
        "id": "view-in-github",
        "colab_type": "text"
      },
      "source": [
        "<a href=\"https://colab.research.google.com/github/jihanfarah/Business-Decision-Research/blob/main/Business_Decision_Research.ipynb\" target=\"_parent\"><img src=\"https://colab.research.google.com/assets/colab-badge.svg\" alt=\"Open In Colab\"/></a>"
      ]
    },
    {
      "cell_type": "markdown",
      "source": [
        "# Business Decision Research\n",
        "\n",
        "## Overview\n",
        "DQLab sports center is a shop that sells various sports needs such as jackets, clothes, bags, and shoes. This shop started its business in 2013, so it has had regular customers for a long time and is still trying to get new customers until now.\n",
        "\n",
        "In early 2019, the store manager recruited a Junior Data Analyst to help solve the problem at his store, namely the decline in customers returning to his store. The Junior Data Analyst was also responsible for processing the store's transaction data. The store manager defines a customer as not a customer (churn) when she/he has not transacted to the store again up to the last six months since the newest update of available data.\n",
        "\n",
        "The store manager also provided transaction data from 2013 to 2019 in CSV (comma-separated value) with data_retail.csv with 100,000 rows of data.\n",
        "\n",
        "The field in data included:\n",
        "1. No\n",
        "2. Row_Num\n",
        "3. Customer_ID\n",
        "4. Product\n",
        "5. First_Transaction\n",
        "6. Last_Transaction\n",
        "7. Average_Transaction_Amount\n",
        "8. Count_Transaction\n",
        "\n",
        "## Solution Steps\n",
        "\n",
        "1. Data preparation test\n",
        "    - Importing data: Importing data_retail.csv into the python environment.\n",
        "    - Data cleansing: Performs cleaning and data modification so that it is ready to be used for further analysis.\n",
        "2. Data visualization test: Gain insight from the visualization results.\n",
        "3. Basic stats method test: Gain insight from the model and evaluate the model that has been created and tested\n",
        "\n",
        "## Importing Data and Inspection"
      ],
      "metadata": {
        "id": "rBuMo7HtjjeF"
      }
    },
    {
      "cell_type": "code",
      "execution_count": null,
      "metadata": {
        "colab": {
          "base_uri": "https://localhost:8080/"
        },
        "id": "UtbbXrRVrMkA",
        "outputId": "416eb0c7-ef3e-41d0-f917-e45067621b66"
      },
      "outputs": [
        {
          "output_type": "stream",
          "name": "stdout",
          "text": [
            "First five data:\n",
            "   no  Row_Num  Customer_ID Product  First_Transaction  Last_Transaction  \\\n",
            "0   1        1        29531   Jaket      1466304274396     1538718482608   \n",
            "1   2        2        29531  Sepatu      1406077331494     1545735761270   \n",
            "2   3        3       141526     Tas      1493349147000     1548322802000   \n",
            "3   4        4       141526   Jaket      1493362372547     1547643603911   \n",
            "4   5        5        37545  Sepatu      1429178498531     1542891221530   \n",
            "\n",
            "   Average_Transaction_Amount  Count_Transaction  \n",
            "0                     1467681                 22  \n",
            "1                     1269337                 41  \n",
            "2                      310915                 30  \n",
            "3                      722632                 27  \n",
            "4                     1775036                 25  \n",
            "\n",
            "Dataset info:\n",
            "<class 'pandas.core.frame.DataFrame'>\n",
            "RangeIndex: 100000 entries, 0 to 99999\n",
            "Data columns (total 8 columns):\n",
            " #   Column                      Non-Null Count   Dtype \n",
            "---  ------                      --------------   ----- \n",
            " 0   no                          100000 non-null  int64 \n",
            " 1   Row_Num                     100000 non-null  int64 \n",
            " 2   Customer_ID                 100000 non-null  int64 \n",
            " 3   Product                     100000 non-null  object\n",
            " 4   First_Transaction           100000 non-null  int64 \n",
            " 5   Last_Transaction            100000 non-null  int64 \n",
            " 6   Average_Transaction_Amount  100000 non-null  int64 \n",
            " 7   Count_Transaction           100000 non-null  int64 \n",
            "dtypes: int64(7), object(1)\n",
            "memory usage: 6.1+ MB\n",
            "None\n"
          ]
        }
      ],
      "source": [
        "import pandas as pd\n",
        "\n",
        "df = pd.read_csv('https://storage.googleapis.com/dqlab-dataset/data_retail.csv', sep=';')\n",
        "\n",
        "print('First five data:')\n",
        "print(df.head())\n",
        "\n",
        "print('\\nDataset info:')\n",
        "print(df.info())"
      ]
    },
    {
      "cell_type": "markdown",
      "source": [
        "## Data Cleansing\n",
        "\n",
        "The two columns that indicate the occurrence of the transaction are not of type datetime, so we need to change them to the datetime data type. We also delete the `no` and `Row_Num` column because those columns do not have any effect on the result."
      ],
      "metadata": {
        "id": "qALENHy4jf98"
      }
    },
    {
      "cell_type": "code",
      "source": [
        "import pandas as pd\n",
        "df = pd.read_csv('https://storage.googleapis.com/dqlab-dataset/data_retail.csv', sep=';')\n",
        "\n",
        "# First_Transaction Column\n",
        "df['First_Transaction'] = pd.to_datetime(df['First_Transaction']/1000, unit='s', origin='1970-01-01')\n",
        "# Last_Transaction Column\n",
        "df['Last_Transaction']=pd.to_datetime(df['Last_Transaction']/1000, unit='s', origin='1970-01-01')\n",
        "\n",
        "# Delete the unused columns\n",
        "del df['no']\n",
        "del df['Row_Num']\n",
        "\n",
        "#Preview data\n",
        "print('First five data:')\n",
        "print(df.head())\n",
        "\n",
        "print('\\nDataset Info:')\n",
        "print(df.info())"
      ],
      "metadata": {
        "colab": {
          "base_uri": "https://localhost:8080/"
        },
        "id": "9H-bonxLwapk",
        "outputId": "2624a250-019f-4975-ca6e-54dc46cfc0e5"
      },
      "execution_count": null,
      "outputs": [
        {
          "output_type": "stream",
          "name": "stdout",
          "text": [
            "First five data:\n",
            "   Customer_ID Product             First_Transaction  \\\n",
            "0        29531   Jaket 2016-06-19 02:44:34.396000000   \n",
            "1        29531  Sepatu 2014-07-23 01:02:11.493999872   \n",
            "2       141526     Tas 2017-04-28 03:12:27.000000000   \n",
            "3       141526   Jaket 2017-04-28 06:52:52.546999808   \n",
            "4        37545  Sepatu 2015-04-16 10:01:38.530999808   \n",
            "\n",
            "               Last_Transaction  Average_Transaction_Amount  Count_Transaction  \n",
            "0 2018-10-05 05:48:02.608000000                     1467681                 22  \n",
            "1 2018-12-25 11:02:41.269999872                     1269337                 41  \n",
            "2 2019-01-24 09:40:02.000000000                      310915                 30  \n",
            "3 2019-01-16 13:00:03.911000064                      722632                 27  \n",
            "4 2018-11-22 12:53:41.529999872                     1775036                 25  \n",
            "\n",
            "Dataset Info:\n",
            "<class 'pandas.core.frame.DataFrame'>\n",
            "RangeIndex: 100000 entries, 0 to 99999\n",
            "Data columns (total 6 columns):\n",
            " #   Column                      Non-Null Count   Dtype         \n",
            "---  ------                      --------------   -----         \n",
            " 0   Customer_ID                 100000 non-null  int64         \n",
            " 1   Product                     100000 non-null  object        \n",
            " 2   First_Transaction           100000 non-null  datetime64[ns]\n",
            " 3   Last_Transaction            100000 non-null  datetime64[ns]\n",
            " 4   Average_Transaction_Amount  100000 non-null  int64         \n",
            " 5   Count_Transaction           100000 non-null  int64         \n",
            "dtypes: datetime64[ns](2), int64(3), object(1)\n",
            "memory usage: 4.6+ MB\n",
            "None\n"
          ]
        }
      ]
    },
    {
      "cell_type": "markdown",
      "source": [
        "## Churn Customers\n",
        "\n",
        "To determine churn customers according to the given definition, we need to look for the most recent transaction that has been made. Based on the information, the customers churn if they do not have any transactions at the store after six months since the last available data update. First, we need to check when was the latest transaction."
      ],
      "metadata": {
        "id": "panx5MzOKLnU"
      }
    },
    {
      "cell_type": "code",
      "source": [
        "import pandas as pd\n",
        "df = pd.read_csv('https://storage.googleapis.com/dqlab-dataset/data_retail.csv', sep=';')\n",
        "df['First_Transaction'] = pd.to_datetime(df['First_Transaction']/1000, unit='s', origin='1970-01-01')\n",
        "df['Last_Transaction'] = pd.to_datetime(df['Last_Transaction']/1000, unit='s', origin='1970-01-01')\n",
        "\n",
        "# Delete the unused columns\n",
        "del df['no']\n",
        "del df['Row_Num']\n",
        "\n",
        "# Checking the last transaction in dataset\n",
        "print('Latest transaction: ', max(df['Last_Transaction']))\n",
        "\n"
      ],
      "metadata": {
        "colab": {
          "base_uri": "https://localhost:8080/"
        },
        "id": "NOY_2A-gyQve",
        "outputId": "2a9340db-a6e7-44ba-a04d-be2d28f8fcba"
      },
      "execution_count": null,
      "outputs": [
        {
          "output_type": "stream",
          "name": "stdout",
          "text": [
            "Latest transaction:  2019-02-01 23:57:57.286000128\n"
          ]
        }
      ]
    },
    {
      "cell_type": "markdown",
      "source": [
        "Because the latest transaction is on Feb 1st, 2019, we need to subtract six months to find the limit of the transaction's date. We get that the limit is on Aug 1st, 2018. Then, we need to classify which customers are churn statuses and which are not using boolean and add it into a new data column."
      ],
      "metadata": {
        "id": "70LQ_hlqKYq9"
      }
    },
    {
      "cell_type": "code",
      "source": [
        "# Classifying the churn customers using boolean\n",
        "df.loc[df['Last_Transaction'] <= '2018-08-01', 'is_churn'] = True\n",
        "df.loc[df['Last_Transaction'] > '2018-08-01', 'is_churn'] = False\n",
        "\n",
        "print('First five data:')\n",
        "print(df.head())"
      ],
      "metadata": {
        "colab": {
          "base_uri": "https://localhost:8080/"
        },
        "id": "oogQF5zq293Z",
        "outputId": "895bd6e4-27a1-43d8-a791-d3af76163a40"
      },
      "execution_count": null,
      "outputs": [
        {
          "output_type": "stream",
          "name": "stdout",
          "text": [
            "First five data:\n",
            "   Customer_ID Product             First_Transaction  \\\n",
            "0        29531   Jaket 2016-06-19 02:44:34.396000000   \n",
            "1        29531  Sepatu 2014-07-23 01:02:11.493999872   \n",
            "2       141526     Tas 2017-04-28 03:12:27.000000000   \n",
            "3       141526   Jaket 2017-04-28 06:52:52.546999808   \n",
            "4        37545  Sepatu 2015-04-16 10:01:38.530999808   \n",
            "\n",
            "               Last_Transaction  Average_Transaction_Amount  \\\n",
            "0 2018-10-05 05:48:02.608000000                     1467681   \n",
            "1 2018-12-25 11:02:41.269999872                     1269337   \n",
            "2 2019-01-24 09:40:02.000000000                      310915   \n",
            "3 2019-01-16 13:00:03.911000064                      722632   \n",
            "4 2018-11-22 12:53:41.529999872                     1775036   \n",
            "\n",
            "   Count_Transaction is_churn  \n",
            "0                 22    False  \n",
            "1                 41    False  \n",
            "2                 30    False  \n",
            "3                 27    False  \n",
            "4                 25    False  \n"
          ]
        }
      ]
    },
    {
      "cell_type": "markdown",
      "source": [
        "## Customer Acquisition by Year"
      ],
      "metadata": {
        "id": "IoGDYUumKlNB"
      }
    },
    {
      "cell_type": "code",
      "source": [
        "import pandas as pd\n",
        "df = pd.read_csv('https://storage.googleapis.com/dqlab-dataset/data_retail.csv', sep=';')\n",
        "df['First_Transaction'] = pd.to_datetime(df['First_Transaction']/1000, unit='s', origin='1970-01-01')\n",
        "df['Last_Transaction'] = pd.to_datetime(df['Last_Transaction']/1000, unit='s', origin='1970-01-01')\n",
        "\n",
        "import matplotlib.pyplot as plt\n",
        "\n",
        "# Year first transaction column\n",
        "df['Year_First_Transaction'] = df['First_Transaction'].dt.year\n",
        "# Year first transaction column\n",
        "df['Year_Last_Transaction'] = df['Last_Transaction'].dt.year\n",
        "\n",
        "df_year = df.groupby(['Year_First_Transaction'])['Customer_ID'].count()\n",
        "df_year.plot(x='Year_First_Transaction', y='Customer_ID', color='springgreen', kind='bar', title='Graph of Customer Acquisition')\n",
        "plt.xlabel('Year First Transaction')\n",
        "plt.ylabel('Num of Customer')\n",
        "plt.tight_layout()\n",
        "plt.show()"
      ],
      "metadata": {
        "colab": {
          "base_uri": "https://localhost:8080/",
          "height": 297
        },
        "id": "y7PiZV8Gl1mr",
        "outputId": "ab3e254d-82b1-4b15-8bb4-237c538b331f"
      },
      "execution_count": null,
      "outputs": [
        {
          "output_type": "display_data",
          "data": {
            "text/plain": [
              "<Figure size 432x288 with 1 Axes>"
            ],
            "image/png": "[encoded data removed]"
          },
          "metadata": {
            "needs_background": "light"
          }
        }
      ]
    },
    {
      "cell_type": "markdown",
      "source": [
        "We can see the number of customers significantly increased by around 80.67% from 2016 to 2018, while the number of customers decreased by around 4.71% from 2017 to 2018.\n",
        "\n",
        "## Transaction by Year"
      ],
      "metadata": {
        "id": "K0Gkg8WFLOjR"
      }
    },
    {
      "cell_type": "code",
      "source": [
        "import pandas as pd\n",
        "df = pd.read_csv('https://storage.googleapis.com/dqlab-dataset/data_retail.csv', sep=';')\n",
        "df['First_Transaction'] = pd.to_datetime(df['First_Transaction']/1000, unit='s', origin='1970-01-01')\n",
        "df['Last_Transaction'] = pd.to_datetime(df['Last_Transaction']/1000, unit='s', origin='1970-01-01')\n",
        "df['Year_First_Transaction'] = df['First_Transaction'].dt.year\n",
        "df['Year_Last_Transaction'] = df['Last_Transaction'].dt.year\n",
        "\n",
        "import matplotlib.pyplot as plt\n",
        "\n",
        "plt.clf()\n",
        "df_year = df.groupby(['Year_First_Transaction'])['Count_Transaction'].sum()\n",
        "df_year.plot(x='Year_First_Transaction', y='Count_Transaction', color='springgreen', kind='bar', title=\"Graph of Customer's Transaction\")\n",
        "plt.xlabel('Year First Transaction')\n",
        "plt.ylabel('Num of Transaction')\n",
        "plt.tight_layout()\n",
        "plt.show()\n",
        "\n",
        "print(df_year)"
      ],
      "metadata": {
        "colab": {
          "base_uri": "https://localhost:8080/",
          "height": 453
        },
        "id": "dRwdToJXr7Kc",
        "outputId": "4a4d7044-dded-4a0e-b551-fca4ee21d9d0"
      },
      "execution_count": null,
      "outputs": [
        {
          "output_type": "display_data",
          "data": {
            "text/plain": [
              "<Figure size 432x288 with 1 Axes>"
            ],
            "image/png": "[encoded data removed]"
          },
          "metadata": {
            "needs_background": "light"
          }
        },
        {
          "output_type": "stream",
          "name": "stdout",
          "text": [
            "Year_First_Transaction\n",
            "2013     23154\n",
            "2014    165494\n",
            "2015    297445\n",
            "2016    278707\n",
            "2017    299199\n",
            "2018     99989\n",
            "2019      5862\n",
            "Name: Count_Transaction, dtype: int64\n"
          ]
        }
      ]
    },
    {
      "cell_type": "markdown",
      "source": [
        "We can see the highest number of transactions happened in 2015 and 2017, and the number of transactions significantly increased from 2014 to 2015. Then, the number of transactions slightly decreased from  2017 to 2018.\n",
        "\n",
        "## Average Transaction Amount by Year"
      ],
      "metadata": {
        "id": "Qh3_NqIVL0JH"
      }
    },
    {
      "cell_type": "code",
      "source": [
        "import pandas as pd\n",
        "df = pd.read_csv('https://storage.googleapis.com/dqlab-dataset/data_retail.csv', sep=';')\n",
        "df['First_Transaction'] = pd.to_datetime(df['First_Transaction']/1000, unit='s', origin='1970-01-01')\n",
        "df['Last_Transaction'] = pd.to_datetime(df['Last_Transaction']/1000, unit='s', origin='1970-01-01')\n",
        "df['Year_First_Transaction'] = df['First_Transaction'].dt.year\n",
        "df['Year_Last_Transaction'] = df['Last_Transaction'].dt.year\n",
        "\n",
        "import matplotlib.pyplot as plt\n",
        "import seaborn as sns\n",
        "\n",
        "plt.clf()\n",
        "ax = sns.pointplot(data = df.groupby(['Product', 'Year_First_Transaction']).mean().reset_index(), \n",
        "              x='Year_First_Transaction', \n",
        "              y='Average_Transaction_Amount', \n",
        "              hue='Product')\n",
        "plt.xlabel('Year First Transaction')\n",
        "plt.ylabel('Average Transaction Amount')\n",
        "plt.tight_layout()\n",
        "plt.show()"
      ],
      "metadata": {
        "colab": {
          "base_uri": "https://localhost:8080/",
          "height": 297
        },
        "id": "krwqMlihuM4g",
        "outputId": "c1fb4bff-6c2e-433a-fb01-52095d4972b9"
      },
      "execution_count": null,
      "outputs": [
        {
          "output_type": "display_data",
          "data": {
            "text/plain": [
              "<Figure size 432x288 with 1 Axes>"
            ],
            "image/png": "[encoded data removed]"
          },
          "metadata": {
            "needs_background": "light"
          }
        }
      ]
    },
    {
      "cell_type": "markdown",
      "source": [
        "## Proportion of Churned Customers for Each Product"
      ],
      "metadata": {
        "id": "Z99lcr9FMJNx"
      }
    },
    {
      "cell_type": "code",
      "source": [
        "import pandas as pd\n",
        "df = pd.read_csv('https://storage.googleapis.com/dqlab-dataset/data_retail.csv', sep=';')\n",
        "df['First_Transaction'] = pd.to_datetime(df['First_Transaction']/1000, unit='s', origin='1970-01-01')\n",
        "df['Last_Transaction'] = pd.to_datetime(df['Last_Transaction']/1000, unit='s', origin='1970-01-01')\n",
        "df['Year_First_Transaction'] = df['First_Transaction'].dt.year\n",
        "df['Year_Last_Transaction'] = df['Last_Transaction'].dt.year\n",
        "df.loc[df['Last_Transaction'] <= '2018-08-01', 'is_churn'] = True \n",
        "df.loc[df['Last_Transaction'] > '2018-08-01', 'is_churn'] = False \n",
        "\n",
        "import matplotlib.pyplot as plt\n",
        "\n",
        "plt.clf()\n",
        "# Pivot data with pivot_table\n",
        "df_piv = df.pivot_table(index='is_churn', \n",
        "                        columns='Product',\n",
        "                        values='Customer_ID', \n",
        "                        aggfunc='count', \n",
        "                        fill_value=0)\n",
        "# Get Proportion Churn by Product\n",
        "plot_product = df_piv.count().sort_values(ascending=False).head(5).index\n",
        "# Pie chart plot\n",
        "df_piv = df_piv.reindex(columns=plot_product)\n",
        "df_piv.plot.pie(subplots=True,\n",
        "                figsize=(10, 7),\n",
        "                layout=(-1, 2),\n",
        "                autopct='%1.0f%%',\n",
        "                title='Proportion Churn by Product')\n",
        "plt.tight_layout()\n",
        "plt.show()"
      ],
      "metadata": {
        "colab": {
          "base_uri": "https://localhost:8080/",
          "height": 531
        },
        "id": "t-wNvYfm8WEx",
        "outputId": "3a65c96f-2126-40c2-c59a-232b01206c57"
      },
      "execution_count": null,
      "outputs": [
        {
          "output_type": "display_data",
          "data": {
            "text/plain": [
              "<Figure size 432x288 with 0 Axes>"
            ]
          },
          "metadata": {}
        },
        {
          "output_type": "display_data",
          "data": {
            "text/plain": [
              "<Figure size 720x504 with 4 Axes>"
            ],
            "image/png": "[encoded data removed]"
          },
          "metadata": {}
        }
      ]
    },
    {
      "cell_type": "markdown",
      "source": [
        "## Count Transaction Categorize Distribution"
      ],
      "metadata": {
        "id": "MtZzbe7mMM-i"
      }
    },
    {
      "cell_type": "code",
      "source": [
        "import pandas as pd\n",
        "df = pd.read_csv('https://storage.googleapis.com/dqlab-dataset/data_retail.csv', sep=';')\n",
        "df['First_Transaction'] = pd.to_datetime(df['First_Transaction']/1000, unit='s', origin='1970-01-01')\n",
        "df['Last_Transaction'] = pd.to_datetime(df['Last_Transaction']/1000, unit='s', origin='1970-01-01')\n",
        "df['Year_First_Transaction'] = df['First_Transaction'].dt.year\n",
        "df['Year_Last_Transaction'] = df['Last_Transaction'].dt.year\n",
        "df.loc[df['Last_Transaction'] <= '2018-08-01', 'is_churn'] = True \n",
        "df.loc[df['Last_Transaction'] > '2018-08-01', 'is_churn'] = False \n",
        "\n",
        "import matplotlib.pyplot as plt\n",
        "\n",
        "plt.clf()\n",
        "# Categorize transaction\n",
        "def func(row):\n",
        "    if row['Count_Transaction'] == 1:\n",
        "        val = '1'\n",
        "    elif (row['Count_Transaction'] > 1 and row['Count_Transaction'] <= 3):\n",
        "        val ='2 - 3'\n",
        "    elif (row['Count_Transaction'] >3 and row['Count_Transaction'] <=6):\n",
        "        val ='4 - 6'\n",
        "    elif (row['Count_Transaction'] > 6 and row['Count_Transaction'] <= 10):\n",
        "        val ='7 - 10'\n",
        "    else:\n",
        "        val ='> 10'\n",
        "    return val\n",
        "# Add new column\n",
        "df['Count_Transaction_Group'] = df.apply(func, axis=1)\n",
        "\n",
        "df_year = df.groupby(['Count_Transaction_Group'])['Customer_ID'].count()\n",
        "df_year.plot(x='Count_Transaction_Group', y='Customer_ID', color='springgreen', kind='bar', title='Customer Distribution by Count Transaction Group')\n",
        "plt.xlabel('Count Transaction Group')\n",
        "plt.ylabel('Num of Customer')\n",
        "plt.tight_layout()\n",
        "plt.show()"
      ],
      "metadata": {
        "colab": {
          "base_uri": "https://localhost:8080/",
          "height": 297
        },
        "id": "fAJLXDHx9oOK",
        "outputId": "e3436015-a685-470f-a813-618c007d2a7d"
      },
      "execution_count": null,
      "outputs": [
        {
          "output_type": "display_data",
          "data": {
            "text/plain": [
              "<Figure size 432x288 with 1 Axes>"
            ],
            "image/png": "[encoded data removed]"
          },
          "metadata": {
            "needs_background": "light"
          }
        }
      ]
    },
    {
      "cell_type": "markdown",
      "source": [
        "## Transaction Amount Average Categorize Distribution\n"
      ],
      "metadata": {
        "id": "78qaPpipMP9p"
      }
    },
    {
      "cell_type": "code",
      "source": [
        "import pandas as pd\n",
        "df = pd.read_csv('https://storage.googleapis.com/dqlab-dataset/data_retail.csv', sep=';')\n",
        "df['First_Transaction'] = pd.to_datetime(df['First_Transaction']/1000, unit='s', origin='1970-01-01')\n",
        "df['Last_Transaction'] = pd.to_datetime(df['Last_Transaction']/1000, unit='s', origin='1970-01-01')\n",
        "df['Year_First_Transaction'] = df['First_Transaction'].dt.year\n",
        "df['Year_Last_Transaction'] = df['Last_Transaction'].dt.year\n",
        "df.loc[df['Last_Transaction'] <= '2018-08-01', 'is_churn'] = True \n",
        "df.loc[df['Last_Transaction'] > '2018-08-01', 'is_churn'] = False \n",
        "\n",
        "import matplotlib.pyplot as plt\n",
        "\n",
        "plt.clf()\n",
        "# Transaction Amount Average Distribution\n",
        "def f(row):\n",
        "    if (row['Average_Transaction_Amount'] >= 100000 and row['Average_Transaction_Amount'] <=250000):\n",
        "        val ='1. 100.000 - 250.000'\n",
        "    elif (row['Average_Transaction_Amount']> 250000 and row['Average_Transaction_Amount'] <= 500000):\n",
        "        val ='2. >250.000 - 500.000'\n",
        "    elif (row['Average_Transaction_Amount'] >500000 and row['Average_Transaction_Amount'] <= 750000):\n",
        "        val = '3. >500.000 - 750.000'\n",
        "    elif (row['Average_Transaction_Amount']>750000 and row['Average_Transaction_Amount'] <= 1000000):\n",
        "        val = '4. >750.000 - 1.000.000'\n",
        "    elif (row['Average_Transaction_Amount']>1000000 and row['Average_Transaction_Amount'] <= 2500000):\n",
        "        val = '5. >1.000.000 - 2.500.000'\n",
        "    elif (row['Average_Transaction_Amount']> 2500000 and row['Average_Transaction_Amount'] <= 5000000):\n",
        "        val = '6. >2.500.000 - 5.000.000'\n",
        "    elif (row['Average_Transaction_Amount']>5000000 and row['Average_Transaction_Amount'] <=10000000):\n",
        "        val = '7. >5.000.000 - 10.000.000'\n",
        "    else:\n",
        "        val = '8. >10.000.000'\n",
        "    return val\n",
        "# Add new column\n",
        "df['Average_Transaction_Amount_Group'] = df.apply(f, axis=1)\n",
        "\n",
        "df_year = df.groupby(['Average_Transaction_Amount_Group'])['Customer_ID'].count()\n",
        "df_year.plot(x='Average_Transaction_Amount_Group', y='Customer_ID',color='springgreen', kind='bar', title='Customer Distribution by Average Transaction Amount Group')\n",
        "plt.xlabel('Average Transaction Amount Group')\n",
        "plt.ylabel('Num of Customer')\n",
        "plt.tight_layout()\n",
        "plt.show()"
      ],
      "metadata": {
        "colab": {
          "base_uri": "https://localhost:8080/",
          "height": 297
        },
        "id": "kMkGdqiR_Qbe",
        "outputId": "11a77870-cf70-4609-c878-6ba49645222c"
      },
      "execution_count": null,
      "outputs": [
        {
          "output_type": "display_data",
          "data": {
            "text/plain": [
              "<Figure size 432x288 with 1 Axes>"
            ],
            "image/png": "[encoded data removed]"
          },
          "metadata": {
            "needs_background": "light"
          }
        }
      ]
    },
    {
      "cell_type": "markdown",
      "source": [
        "## Train, predict, and evaluate\n",
        "We will use `Average_Transaction_Amount, Count_Transaction,` and `Year_Diff` as feature columns. Then, we use `is_churn` as the target column. Before we train the data, we need to change `is_churn` to 'int' format and we use Logistic Regression. Last, we evaluate the model with a confusion matrix.\n"
      ],
      "metadata": {
        "id": "hCPS_SOOMcwM"
      }
    },
    {
      "cell_type": "code",
      "source": [
        "import pandas as pd\n",
        "df = pd.read_csv('https://storage.googleapis.com/dqlab-dataset/data_retail.csv', sep=';')\n",
        "df['First_Transaction'] = pd.to_datetime(df['First_Transaction']/1000, unit='s', origin='1970-01-01')\n",
        "df['Last_Transaction'] = pd.to_datetime(df['Last_Transaction']/1000, unit='s', origin='1970-01-01')\n",
        "df['Year_First_Transaction'] = df['First_Transaction'].dt.year\n",
        "df['Year_Last_Transaction'] = df['Last_Transaction'].dt.year\n",
        "df.loc[df['Last_Transaction'] <= '2018-08-01', 'is_churn'] = True \n",
        "df.loc[df['Last_Transaction'] > '2018-08-01', 'is_churn'] = False \n",
        "\n",
        "df['Year_Diff']=df['Year_Last_Transaction']-df['Year_First_Transaction']\n",
        "feature_columns = ['Average_Transaction_Amount', 'Count_Transaction', 'Year_Diff']\n",
        "\n",
        "X = df[feature_columns] \n",
        "y = df['is_churn'] \n",
        "y=y.astype('int')\n",
        "\n",
        "from sklearn.model_selection import train_test_split\n",
        "X_train, X_test, y_train, y_test = train_test_split(X, y, test_size=0.25, random_state=0)\n",
        "\n",
        "from sklearn.linear_model import LogisticRegression\n",
        "from sklearn.metrics import confusion_matrix\n",
        "\n",
        "# Model logreg initiation\n",
        "logreg = LogisticRegression()\n",
        "\n",
        "# fit the model with data\n",
        "logreg.fit(X_train, y_train)\n",
        "\n",
        "# Predict model\n",
        "y_pred = logreg.predict(X_test)\n",
        "\n",
        "# Evaluate model with confusion matrix\n",
        "cnf_matrix = pd.DataFrame(confusion_matrix(y_test, y_pred),('No churn','Churn'),('No churn','Churn'))\n",
        "print('Confusion Matrix:\\n', cnf_matrix)\n",
        "\n",
        "# import required modules\n",
        "import numpy as np\n",
        "import matplotlib.pyplot as plt\n",
        "import seaborn as sns\n",
        "\n",
        "plt.clf()\n",
        "# name  of classes\n",
        "class_names = ['No Churn', 'Churn'] \n",
        "fig, ax = plt.subplots()\n",
        "\n",
        "tick_marks = np.arange(len(class_names))\n",
        "plt.xticks(tick_marks, class_names)\n",
        "plt.yticks(tick_marks, class_names)\n",
        "\n",
        "# create heatmap\n",
        "sns.heatmap(pd.DataFrame(cnf_matrix), annot=True, cmap='YlGnBu', fmt='g')\n",
        "ax.xaxis.set_label_position('top')\n",
        "plt.title('Confusion matrix', y=1.1)\n",
        "plt.ylabel('Actual')\n",
        "plt.xlabel('Predicted')\n",
        "plt.tight_layout()\n",
        "plt.show()\n",
        "\n",
        "from sklearn.metrics import accuracy_score, precision_score, recall_score\n",
        "\n",
        "#Find Accuracy, Precision, dan Recall\n",
        "print('Accuracy :', accuracy_score(y_test,y_pred))\n",
        "print('Precision:', precision_score(y_test, y_pred, average='micro'))\n",
        "print('Recall   :', recall_score(y_test, y_pred, average='micro'))"
      ],
      "metadata": {
        "colab": {
          "base_uri": "https://localhost:8080/",
          "height": 436
        },
        "id": "U5W0mLPCIbRr",
        "outputId": "c5eb863a-7c3d-4138-a004-58f889b01135"
      },
      "execution_count": null,
      "outputs": [
        {
          "output_type": "stream",
          "name": "stdout",
          "text": [
            "Confusion Matrix:\n",
            "           No churn  Churn\n",
            "No churn         1   8330\n",
            "Churn            3  16666\n"
          ]
        },
        {
          "output_type": "display_data",
          "data": {
            "text/plain": [
              "<Figure size 432x288 with 0 Axes>"
            ]
          },
          "metadata": {}
        },
        {
          "output_type": "display_data",
          "data": {
            "text/plain": [
              "<Figure size 432x288 with 2 Axes>"
            ],
            "image/png": "[encoded data removed]"
          },
          "metadata": {
            "needs_background": "light"
          }
        },
        {
          "output_type": "stream",
          "name": "stdout",
          "text": [
            "Accuracy : 0.66668\n",
            "Precision: 0.66668\n",
            "Recall   : 0.66668\n"
          ]
        }
      ]
    },
    {
      "cell_type": "markdown",
      "source": [
        "## Accuracy, Precision, and Recall"
      ],
      "metadata": {
        "id": "zgeHLkgFMiD_"
      }
    },
    {
      "cell_type": "code",
      "source": [
        "import pandas as pd\n",
        "df = pd.read_csv('https://storage.googleapis.com/dqlab-dataset/data_retail.csv', sep=';')\n",
        "df['First_Transaction'] = pd.to_datetime(df['First_Transaction']/1000, unit='s', origin='1970-01-01')\n",
        "df['Last_Transaction'] = pd.to_datetime(df['Last_Transaction']/1000, unit='s', origin='1970-01-01')\n",
        "df['Year_First_Transaction'] = df['First_Transaction'].dt.year\n",
        "df['Year_Last_Transaction'] = df['Last_Transaction'].dt.year\n",
        "df.loc[df['Last_Transaction'] <= '2018-08-01', 'is_churn'] = True \n",
        "df.loc[df['Last_Transaction'] > '2018-08-01', 'is_churn'] = False \n",
        "\n",
        "df['Year_Diff']=df['Year_Last_Transaction']-df['Year_First_Transaction']\n",
        "feature_columns = ['Average_Transaction_Amount', 'Count_Transaction', 'Year_Diff']\n",
        "\n",
        "X = df[feature_columns] \n",
        "y = df['is_churn'] \n",
        "y=y.astype('int')\n",
        "\n",
        "from sklearn.model_selection import train_test_split\n",
        "X_train, X_test, y_train, y_test = train_test_split(X, y, test_size=0.25, random_state=0)\n",
        "\n",
        "from sklearn.linear_model import LogisticRegression\n",
        "from sklearn.metrics import confusion_matrix\n",
        "\n",
        "logreg = LogisticRegression()\n",
        "logreg.fit(X_train, y_train)\n",
        "y_pred = logreg.predict(X_test)\n",
        "cnf_matrix = confusion_matrix(y_test, y_pred)\n",
        "\n",
        "from sklearn.metrics import accuracy_score, precision_score, recall_score\n",
        "\n",
        "#Find Accuracy, Precision, dan Recall\n",
        "print('Accuracy :', accuracy_score(y_test,y_pred))\n",
        "print('Precision:', precision_score(y_test, y_pred, average='micro'))\n",
        "print('Recall   :', recall_score(y_test, y_pred, average='micro'))"
      ],
      "metadata": {
        "colab": {
          "base_uri": "https://localhost:8080/"
        },
        "id": "Gdud0Ium9gW7",
        "outputId": "d8f35703-107e-4267-9901-5db92524cc79"
      },
      "execution_count": null,
      "outputs": [
        {
          "output_type": "stream",
          "name": "stdout",
          "text": [
            "Accuracy : 0.66668\n",
            "Precision: 0.66668\n",
            "Recall   : 0.66668\n"
          ]
        }
      ]
    }
  ]
}